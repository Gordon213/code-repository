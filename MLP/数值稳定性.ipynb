{
 "cells": [
  {
   "cell_type": "markdown",
   "metadata": {},
   "source": [
    "数值稳定性是为了让每一层的输出和梯度尽可能稳定，要不然求导的时候梯度会过大或者过小\n",
    "介绍的方法是：让每一层的输出和梯度都是均值为0，方差为1\n",
    "经过一系列数学推导，我们可以得到设置每一层w的方法：normal(0,(2/(nt-1+nt))开根号)"
   ]
  }
 ],
 "metadata": {
  "language_info": {
   "name": "python"
  }
 },
 "nbformat": 4,
 "nbformat_minor": 2
}
