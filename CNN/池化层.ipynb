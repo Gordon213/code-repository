{
 "cells": [
  {
   "cell_type": "code",
   "execution_count": null,
   "metadata": {},
   "outputs": [
    {
     "data": {
      "text/plain": [
       "(tensor([[[[10]],\n",
       " \n",
       "          [[26]]]]),\n",
       " tensor([[[[ 0,  1,  2,  3],\n",
       "           [ 4,  5,  6,  7],\n",
       "           [ 8,  9, 10, 11],\n",
       "           [12, 13, 14, 15]],\n",
       " \n",
       "          [[16, 17, 18, 19],\n",
       "           [20, 21, 22, 23],\n",
       "           [24, 25, 26, 27],\n",
       "           [28, 29, 30, 31]]]]))"
      ]
     },
     "execution_count": 15,
     "metadata": {},
     "output_type": "execute_result"
    }
   ],
   "source": [
    "import torch\n",
    "from torch import nn\n",
    "from d2l import torch as d2l\n",
    "\"\"\"手写池化层\"\"\"\n",
    "def pool2d(x,pool_size,mode='max'):\n",
    "    h,w=pool_size\n",
    "    y=torch.zeros(size=(x.shape[0]-h+1,x.shape[1]-w+1))\n",
    "    for i in range(y.shape[0]):\n",
    "        for j in range(y.shape[1]):\n",
    "            if(mode=='max'):\n",
    "                y[i,j]=x[i:i+h,j:j+w].max()\n",
    "            if(mode=='avg'):\n",
    "                y[i,j]=x[i:i+h,j:j+w].meax()\n",
    "    return y\n",
    "x=torch.arange(32).reshape(1,2,4,4)\n",
    "\"\"\"自动池化层\"\"\"\n",
    "pool=nn.MaxPool2d(kernel_size=3,stride=3,padding=0)\n",
    "pool(x),x"
   ]
  }
 ],
 "metadata": {
  "kernelspec": {
   "display_name": "test",
   "language": "python",
   "name": "python3"
  },
  "language_info": {
   "codemirror_mode": {
    "name": "ipython",
    "version": 3
   },
   "file_extension": ".py",
   "mimetype": "text/x-python",
   "name": "python",
   "nbconvert_exporter": "python",
   "pygments_lexer": "ipython3",
   "version": "3.9.20"
  }
 },
 "nbformat": 4,
 "nbformat_minor": 2
}
