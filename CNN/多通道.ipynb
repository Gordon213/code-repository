{
 "cells": [
  {
   "cell_type": "markdown",
   "metadata": {},
   "source": [
    "### 输入通道：\n",
    "图片的RGB即为三个输入通道\n",
    "每个输入通道对应的卷积核<mark>不一样<mark>\n",
    "### 输出通道：\n",
    "用几个不同的卷积核即为几个输出通道"
   ]
  },
  {
   "cell_type": "code",
   "execution_count": 1,
   "metadata": {},
   "outputs": [
    {
     "ename": "NameError",
     "evalue": "name '想·' is not defined",
     "output_type": "error",
     "traceback": [
      "\u001b[1;31m---------------------------------------------------------------------------\u001b[0m",
      "\u001b[1;31mNameError\u001b[0m                                 Traceback (most recent call last)",
      "Cell \u001b[1;32mIn[1], line 7\u001b[0m\n\u001b[0;32m      4\u001b[0m     \u001b[38;5;28;01mreturn\u001b[39;00m \u001b[38;5;28msum\u001b[39m(d2l\u001b[38;5;241m.\u001b[39mcorr2d(x1,k1) \u001b[38;5;28;01mfor\u001b[39;00m x1,k1 \u001b[38;5;129;01min\u001b[39;00m \u001b[38;5;28mzip\u001b[39m(x,k))\n\u001b[0;32m      5\u001b[0m X \u001b[38;5;241m=\u001b[39m torch\u001b[38;5;241m.\u001b[39mtensor([[[\u001b[38;5;241m0.0\u001b[39m, \u001b[38;5;241m1.0\u001b[39m, \u001b[38;5;241m2.0\u001b[39m], [\u001b[38;5;241m3.0\u001b[39m, \u001b[38;5;241m4.0\u001b[39m, \u001b[38;5;241m5.0\u001b[39m], [\u001b[38;5;241m6.0\u001b[39m, \u001b[38;5;241m7.0\u001b[39m, \u001b[38;5;241m8.0\u001b[39m]],\n\u001b[0;32m      6\u001b[0m                [[\u001b[38;5;241m1.0\u001b[39m, \u001b[38;5;241m2.0\u001b[39m, \u001b[38;5;241m3.0\u001b[39m], [\u001b[38;5;241m4.0\u001b[39m, \u001b[38;5;241m5.0\u001b[39m, \u001b[38;5;241m6.0\u001b[39m], [\u001b[38;5;241m7.0\u001b[39m, \u001b[38;5;241m8.0\u001b[39m, \u001b[38;5;241m9.0\u001b[39m]]])\n\u001b[1;32m----> 7\u001b[0m K \u001b[38;5;241m=\u001b[39m torch\u001b[38;5;241m.\u001b[39mtensor([[[\u001b[38;5;241m0.0\u001b[39m, \u001b[38;5;241m1.0\u001b[39m], [\u001b[38;5;241m2.0\u001b[39m, \u001b[38;5;241m3.0\u001b[39m]], [[\u001b[38;5;241m1.0\u001b[39m, \u001b[38;5;241m2.0\u001b[39m], \u001b[43m想·\u001b[49m[\u001b[38;5;241m3.0\u001b[39m, \u001b[38;5;241m4.0\u001b[39m]]])\n\u001b[0;32m      8\u001b[0m corr2d_multi_in(X, K)\n",
      "\u001b[1;31mNameError\u001b[0m: name '想·' is not defined"
     ]
    }
   ],
   "source": [
    "import torch\n",
    "from d2l import torch as d2l\n",
    "def corr2d_multi_in(x,k):\n",
    "    return sum(d2l.corr2d(x1,k1) for x1,k1 in zip(x,k))\n",
    "X = torch.tensor([[[0.0, 1.0, 2.0], [3.0, 4.0, 5.0], [6.0, 7.0, 8.0]],\n",
    "               [[1.0, 2.0, 3.0], [4.0, 5.0, 6.0], [7.0, 8.0, 9.0]]])\n",
    "K = torch.tensor([[[0.0, 1.0], [2.0, 3.0]], [[1.0, 2.0], 想·[3.0, 4.0]]])\n",
    "corr2d_multi_in(X, K)"
   ]
  }
 ],
 "metadata": {
  "kernelspec": {
   "display_name": "test",
   "language": "python",
   "name": "python3"
  },
  "language_info": {
   "codemirror_mode": {
    "name": "ipython",
    "version": 3
   },
   "file_extension": ".py",
   "mimetype": "text/x-python",
   "name": "python",
   "nbconvert_exporter": "python",
   "pygments_lexer": "ipython3",
   "version": "3.9.20"
  }
 },
 "nbformat": 4,
 "nbformat_minor": 2
}
